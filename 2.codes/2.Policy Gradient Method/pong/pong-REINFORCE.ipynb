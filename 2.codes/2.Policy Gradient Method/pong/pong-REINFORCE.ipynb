{
 "cells": [
  {
   "cell_type": "markdown",
   "metadata": {},
   "source": [
    "# Welcome!\n",
    "Below, we will learn to implement and train a policy to play atari-pong, using only the pixels as input. We will use convolutional neural nets, multiprocessing, and pytorch to implement and train our policy. Let's get started!\n",
    "\n",
    "(I strongly recommend you to try this notebook on the Udacity workspace first before running it locally on your desktop/laptop, as performance might suffer in different environments)"
   ]
  },
  {
   "cell_type": "code",
   "execution_count": 1,
   "metadata": {},
   "outputs": [
    {
     "name": "stdout",
     "output_type": "stream",
     "text": [
      "Requirement already satisfied: JSAnimation in c:\\users\\97575\\anaconda3\\envs\\udacity-py36\\lib\\site-packages (0.1)\n"
     ]
    },
    {
     "name": "stderr",
     "output_type": "stream",
     "text": [
      "WARNING: Ignoring invalid distribution -orch (c:\\users\\97575\\anaconda3\\envs\\udacity-py36\\lib\\site-packages)\n",
      "WARNING: Ignoring invalid distribution -illow (c:\\users\\97575\\anaconda3\\envs\\udacity-py36\\lib\\site-packages)\n",
      "WARNING: Ignoring invalid distribution -orch (c:\\users\\97575\\anaconda3\\envs\\udacity-py36\\lib\\site-packages)\n",
      "WARNING: Ignoring invalid distribution -illow (c:\\users\\97575\\anaconda3\\envs\\udacity-py36\\lib\\site-packages)\n",
      "WARNING: Ignoring invalid distribution -orch (c:\\users\\97575\\anaconda3\\envs\\udacity-py36\\lib\\site-packages)\n",
      "WARNING: Ignoring invalid distribution -illow (c:\\users\\97575\\anaconda3\\envs\\udacity-py36\\lib\\site-packages)\n",
      "WARNING: Ignoring invalid distribution -orch (c:\\users\\97575\\anaconda3\\envs\\udacity-py36\\lib\\site-packages)\n",
      "WARNING: Ignoring invalid distribution -illow (c:\\users\\97575\\anaconda3\\envs\\udacity-py36\\lib\\site-packages)\n",
      "WARNING: Ignoring invalid distribution -orch (c:\\users\\97575\\anaconda3\\envs\\udacity-py36\\lib\\site-packages)\n",
      "WARNING: Ignoring invalid distribution -illow (c:\\users\\97575\\anaconda3\\envs\\udacity-py36\\lib\\site-packages)\n"
     ]
    },
    {
     "name": "stdout",
     "output_type": "stream",
     "text": [
      "cuda:0\n",
      "True\n",
      "using device:  cuda:0\n"
     ]
    }
   ],
   "source": [
    "import os\n",
    "os.environ[\"KMP_DUPLICATE_LIB_OK\"] = \"TRUE\" # this avoids the crush of the ipykernel kernel\n",
    "\n",
    "# install package for displaying animation\n",
    "!pip install JSAnimation\n",
    "\n",
    "# custom utilies for displaying animation, collecting rollouts and more\n",
    "import pong_utils\n",
    "\n",
    "import torch\n",
    "print(torch.cuda.is_available())\n",
    "\n",
    "\n",
    "%matplotlib inline\n",
    "\n",
    "# check which device is being used. \n",
    "# I recommend disabling gpu until you've made sure that the code runs\n",
    "device = pong_utils.device\n",
    "print(\"using device: \",device)"
   ]
  },
  {
   "cell_type": "code",
   "execution_count": 2,
   "metadata": {},
   "outputs": [
    {
     "name": "stdout",
     "output_type": "stream",
     "text": [
      "List of available actions:  ['NOOP', 'FIRE', 'RIGHT', 'LEFT', 'RIGHTFIRE', 'LEFTFIRE']\n"
     ]
    }
   ],
   "source": [
    "# render ai gym environment\n",
    "import gym\n",
    "import time\n",
    "\n",
    "# python -m atari_py.import_roms C:\\Users\\97575\\Downloads\\Atari-2600-VCS-ROM-Collection\n",
    "# PongDeterministic does not contain random frameskip\n",
    "# so is faster to train than the vanilla Pong-v4 environment\n",
    "env = gym.make('PongDeterministic-v4')\n",
    "\n",
    "print(\"List of available actions: \", env.unwrapped.get_action_meanings())\n",
    "\n",
    "# we will only use the actions 'RIGHTFIRE' = 4 and 'LEFTFIRE\" = 5\n",
    "# the 'FIRE' part ensures that the game starts again after losing a life\n",
    "# the actions are hard-coded in pong_utils.py"
   ]
  },
  {
   "cell_type": "markdown",
   "metadata": {},
   "source": [
    "# Preprocessing\n",
    "To speed up training, we can simplify the input by cropping the images and use every other pixel\n",
    "\n"
   ]
  },
  {
   "cell_type": "code",
   "execution_count": 3,
   "metadata": {},
   "outputs": [
    {
     "name": "stdout",
     "output_type": "stream",
     "text": [
      "frame has shape (210, 160, 3)\n"
     ]
    },
    {
     "data": {
      "image/png": "[encoded data removed]",
      "text/plain": [
       "<Figure size 432x288 with 2 Axes>"
      ]
     },
     "metadata": {
      "needs_background": "light"
     },
     "output_type": "display_data"
    }
   ],
   "source": [
    "import matplotlib\n",
    "import matplotlib.pyplot as plt\n",
    "\n",
    "# show what a preprocessed image looks like\n",
    "env.reset()\n",
    "_, _, _, _ = env.step(0)\n",
    "# get a frame after 20 steps\n",
    "for _ in range(20):\n",
    "    frame, _, _, _ = env.step(1)\n",
    "\n",
    "print(f\"frame has shape {frame.shape}\")\n",
    "\n",
    "plt.subplot(1,2,1)\n",
    "plt.imshow(frame)\n",
    "plt.title('original image')\n",
    "\n",
    "plt.subplot(1,2,2)\n",
    "plt.title('preprocessed image')\n",
    "\n",
    "# 80 x 80 black and white image\n",
    "plt.imshow(pong_utils.preprocess_single(frame), cmap='Greys')\n",
    "plt.show()\n",
    "\n"
   ]
  },
  {
   "cell_type": "markdown",
   "metadata": {},
   "source": [
    "# Policy\n",
    "\n",
    "## Exercise 1: Implement your policy\n",
    " \n",
    "Here, we define our policy. The input is the stack of two different frames (which captures the movement), and the output is a number $P_{\\rm right}$, the probability of moving left. Note that $P_{\\rm left}= 1-P_{\\rm right}$"
   ]
  },
  {
   "cell_type": "code",
   "execution_count": 4,
   "metadata": {},
   "outputs": [],
   "source": [
    "import torch\n",
    "import torch.nn as nn\n",
    "import torch.nn.functional as F\n",
    "\n",
    "\n",
    "# set up a convolutional neural net\n",
    "# the output is the probability of moving right\n",
    "# P(left) = 1-P(right)\n",
    "class Policy(nn.Module):\n",
    "\n",
    "    def __init__(self):\n",
    "        super(Policy, self).__init__()\n",
    "        \n",
    "        # 80x80 to outputsize x outputsize\n",
    "        # outputsize = (inputsize - kernel_size + stride)/stride \n",
    "        # (round up if not an integer)\n",
    "\n",
    "        # output = 20x20x4 here\n",
    "        self.conv1 = nn.Conv2d(2, 4, kernel_size=4, stride=4, bias=False)\n",
    "        # output = 5x5x8 here\n",
    "        self.conv2 = nn.Conv2d(4, 8, kernel_size=4, stride=4)\n",
    "        self.size=5*5*8\n",
    "        \n",
    "        # 1 fully connected layer\n",
    "        self.fc1 = nn.Linear(self.size, 256)\n",
    "        self.fc2 = nn.Linear(256, 1)\n",
    "        self.sig = nn.Sigmoid()\n",
    "        \n",
    "    def forward(self, x):\n",
    "        x = F.relu(self.conv1(x))\n",
    "        x = F.relu(self.conv2(x))\n",
    "        # flatten the tensor\n",
    "        x = x.view(-1,self.size)\n",
    "        x = F.relu(self.fc1(x))\n",
    "        return self.sig(self.fc2(x))\n",
    "# use your own policy!\n",
    "policy=Policy().to(device)\n",
    "\n",
    "\n",
    "# policy=pong_utils.Policy().to(device)\n",
    "\n",
    "# we use the adam optimizer with learning rate 2e-4\n",
    "# optim.SGD is also possible\n",
    "import torch.optim as optim\n",
    "optimizer = optim.Adam(policy.parameters(), lr=2e-4)"
   ]
  },
  {
   "cell_type": "markdown",
   "metadata": {},
   "source": [
    "# Game visualization\n",
    "pong_utils contain a play function given the environment and a policy. An optional preprocess function can be supplied. Here we define a function that plays a game and shows learning progress"
   ]
  },
  {
   "cell_type": "code",
   "execution_count": 5,
   "metadata": {},
   "outputs": [
    {
     "data": {
      "text/html": [
       "\n",
       "<link rel=\"stylesheet\"\n",
       "href=\"https://maxcdn.bootstrapcdn.com/font-awesome/4.4.0/css/font-awesome.min.css\">\n",
       "<script language=\"javascript\">\n",
       "  function isInternetExplorer() {\n",
       "    ua = navigator.userAgent;\n",
       "    /* MSIE used to detect old browsers and Trident used to newer ones*/\n",
       "    return ua.indexOf(\"MSIE \") > -1 || ua.indexOf(\"Trident/\") > -1;\n",
       "  }\n",
       "\n",
       "  /* Define the Animation class */\n",
       "  function Animation(frames, img_id, slider_id, interval, loop_select_id){\n",
       "    this.img_id = img_id;\n",
       "    this.slider_id = slider_id;\n",
       "    this.loop_select_id = loop_select_id;\n",
       "    this.interval = interval;\n",
       "    this.current_frame = 0;\n",
       "    this.direction = 0;\n",
       "    this.timer = null;\n",
       "    this.frames = new Array(frames.length);\n",
       "\n",
       "    for (var i=0; i<frames.length; i++)\n",
       "    {\n",
       "     this.frames[i] = new Image();\n",
       "     this.frames[i].src = frames[i];\n",
       "    }\n",
       "    var slider = document.getElementById(this.slider_id);\n",
       "    slider.max = this.frames.length - 1;\n",
       "    if (isInternetExplorer()) {\n",
       "        // switch from oninput to onchange because IE <= 11 does not conform\n",
       "        // with W3C specification. It ignores oninput and onchange behaves\n",
       "        // like oninput. In contrast, Mircosoft Edge behaves correctly.\n",
       "        slider.setAttribute('onchange', slider.getAttribute('oninput'));\n",
       "        slider.setAttribute('oninput', null);\n",
       "    }\n",
       "    this.set_frame(this.current_frame);\n",
       "  }\n",
       "\n",
       "  Animation.prototype.get_loop_state = function(){\n",
       "    var button_group = document[this.loop_select_id].state;\n",
       "    for (var i = 0; i < button_group.length; i++) {\n",
       "        var button = button_group[i];\n",
       "        if (button.checked) {\n",
       "            return button.value;\n",
       "        }\n",
       "    }\n",
       "    return undefined;\n",
       "  }\n",
       "\n",
       "  Animation.prototype.set_frame = function(frame){\n",
       "    this.current_frame = frame;\n",
       "    document.getElementById(this.img_id).src =\n",
       "            this.frames[this.current_frame].src;\n",
       "    document.getElementById(this.slider_id).value = this.current_frame;\n",
       "  }\n",
       "\n",
       "  Animation.prototype.next_frame = function()\n",
       "  {\n",
       "    this.set_frame(Math.min(this.frames.length - 1, this.current_frame + 1));\n",
       "  }\n",
       "\n",
       "  Animation.prototype.previous_frame = function()\n",
       "  {\n",
       "    this.set_frame(Math.max(0, this.current_frame - 1));\n",
       "  }\n",
       "\n",
       "  Animation.prototype.first_frame = function()\n",
       "  {\n",
       "    this.set_frame(0);\n",
       "  }\n",
       "\n",
       "  Animation.prototype.last_frame = function()\n",
       "  {\n",
       "    this.set_frame(this.frames.length - 1);\n",
       "  }\n",
       "\n",
       "  Animation.prototype.slower = function()\n",
       "  {\n",
       "    this.interval /= 0.7;\n",
       "    if(this.direction > 0){this.play_animation();}\n",
       "    else if(this.direction < 0){this.reverse_animation();}\n",
       "  }\n",
       "\n",
       "  Animation.prototype.faster = function()\n",
       "  {\n",
       "    this.interval *= 0.7;\n",
       "    if(this.direction > 0){this.play_animation();}\n",
       "    else if(this.direction < 0){this.reverse_animation();}\n",
       "  }\n",
       "\n",
       "  Animation.prototype.anim_step_forward = function()\n",
       "  {\n",
       "    this.current_frame += 1;\n",
       "    if(this.current_frame < this.frames.length){\n",
       "      this.set_frame(this.current_frame);\n",
       "    }else{\n",
       "      var loop_state = this.get_loop_state();\n",
       "      if(loop_state == \"loop\"){\n",
       "        this.first_frame();\n",
       "      }else if(loop_state == \"reflect\"){\n",
       "        this.last_frame();\n",
       "        this.reverse_animation();\n",
       "      }else{\n",
       "        this.pause_animation();\n",
       "        this.last_frame();\n",
       "      }\n",
       "    }\n",
       "  }\n",
       "\n",
       "  Animation.prototype.anim_step_reverse = function()\n",
       "  {\n",
       "    this.current_frame -= 1;\n",
       "    if(this.current_frame >= 0){\n",
       "      this.set_frame(this.current_frame);\n",
       "    }else{\n",
       "      var loop_state = this.get_loop_state();\n",
       "      if(loop_state == \"loop\"){\n",
       "        this.last_frame();\n",
       "      }else if(loop_state == \"reflect\"){\n",
       "        this.first_frame();\n",
       "        this.play_animation();\n",
       "      }else{\n",
       "        this.pause_animation();\n",
       "        this.first_frame();\n",
       "      }\n",
       "    }\n",
       "  }\n",
       "\n",
       "  Animation.prototype.pause_animation = function()\n",
       "  {\n",
       "    this.direction = 0;\n",
       "    if (this.timer){\n",
       "      clearInterval(this.timer);\n",
       "      this.timer = null;\n",
       "    }\n",
       "  }\n",
       "\n",
       "  Animation.prototype.play_animation = function()\n",
       "  {\n",
       "    this.pause_animation();\n",
       "    this.direction = 1;\n",
       "    var t = this;\n",
       "    if (!this.timer) this.timer = setInterval(function() {\n",
       "        t.anim_step_forward();\n",
       "    }, this.interval);\n",
       "  }\n",
       "\n",
       "  Animation.prototype.reverse_animation = function()\n",
       "  {\n",
       "    this.pause_animation();\n",
       "    this.direction = -1;\n",
       "    var t = this;\n",
       "    if (!this.timer) this.timer = setInterval(function() {\n",
       "        t.anim_step_reverse();\n",
       "    }, this.interval);\n",
       "  }\n",
       "</script>\n",
       "\n",
       "<style>\n",
       ".animation {\n",
       "    display: inline-block;\n",
       "    text-align: center;\n",
       "}\n",
       "input[type=range].anim-slider {\n",
       "    width: 374px;\n",
       "    margin-left: auto;\n",
       "    margin-right: auto;\n",
       "}\n",
       ".anim-buttons {\n",
       "    margin: 8px 0px;\n",
       "}\n",
       ".anim-buttons button {\n",
       "    padding: 0;\n",
       "    width: 36px;\n",
       "}\n",
       ".anim-state label {\n",
       "    margin-right: 8px;\n",
       "}\n",
       ".anim-state input {\n",
       "    margin: 0;\n",
       "    vertical-align: middle;\n",
       "}\n",
       "</style>\n",
       "\n",
       "<div class=\"animation\">\n",
       "  <img id=\"_anim_img82f5056c0e624978b9d494be3d9e8836\">\n",
       "  <div class=\"anim-controls\">\n",
       "    <input id=\"_anim_slider82f5056c0e624978b9d494be3d9e8836\" type=\"range\" class=\"anim-slider\"\n",
       "           name=\"points\" min=\"0\" max=\"1\" step=\"1\" value=\"0\"\n",
       "           oninput=\"anim82f5056c0e624978b9d494be3d9e8836.set_frame(parseInt(this.value));\"></input>\n",
       "    <div class=\"anim-buttons\">\n",
       "      <button title=\"Decrease speed\" onclick=\"anim82f5056c0e624978b9d494be3d9e8836.slower()\">\n",
       "          <i class=\"fa fa-minus\"></i></button>\n",
       "      <button title=\"First frame\" onclick=\"anim82f5056c0e624978b9d494be3d9e8836.first_frame()\">\n",
       "        <i class=\"fa fa-fast-backward\"></i></button>\n",
       "      <button title=\"Previous frame\" onclick=\"anim82f5056c0e624978b9d494be3d9e8836.previous_frame()\">\n",
       "          <i class=\"fa fa-step-backward\"></i></button>\n",
       "      <button title=\"Play backwards\" onclick=\"anim82f5056c0e624978b9d494be3d9e8836.reverse_animation()\">\n",
       "          <i class=\"fa fa-play fa-flip-horizontal\"></i></button>\n",
       "      <button title=\"Pause\" onclick=\"anim82f5056c0e624978b9d494be3d9e8836.pause_animation()\">\n",
       "          <i class=\"fa fa-pause\"></i></button>\n",
       "      <button title=\"Play\" onclick=\"anim82f5056c0e624978b9d494be3d9e8836.play_animation()\">\n",
       "          <i class=\"fa fa-play\"></i></button>\n",
       "      <button title=\"Next frame\" onclick=\"anim82f5056c0e624978b9d494be3d9e8836.next_frame()\">\n",
       "          <i class=\"fa fa-step-forward\"></i></button>\n",
       "      <button title=\"Last frame\" onclick=\"anim82f5056c0e624978b9d494be3d9e8836.last_frame()\">\n",
       "          <i class=\"fa fa-fast-forward\"></i></button>\n",
       "      <button title=\"Increase speed\" onclick=\"anim82f5056c0e624978b9d494be3d9e8836.faster()\">\n",
       "          <i class=\"fa fa-plus\"></i></button>\n",
       "    </div>\n",
       "    <form title=\"Repetition mode\" action=\"#n\" name=\"_anim_loop_select82f5056c0e624978b9d494be3d9e8836\"\n",
       "          class=\"anim-state\">\n",
       "      <input type=\"radio\" name=\"state\" value=\"once\" id=\"_anim_radio1_82f5056c0e624978b9d494be3d9e8836\"\n",
       "             >\n",
       "      <label for=\"_anim_radio1_82f5056c0e624978b9d494be3d9e8836\">Once</label>\n",
       "      <input type=\"radio\" name=\"state\" value=\"loop\" id=\"_anim_radio2_82f5056c0e624978b9d494be3d9e8836\"\n",
       "             checked>\n",
       "      <label for=\"_anim_radio2_82f5056c0e624978b9d494be3d9e8836\">Loop</label>\n",
       "      <input type=\"radio\" name=\"state\" value=\"reflect\" id=\"_anim_radio3_82f5056c0e624978b9d494be3d9e8836\"\n",
       "             >\n",
       "      <label for=\"_anim_radio3_82f5056c0e624978b9d494be3d9e8836\">Reflect</label>\n",
       "    </form>\n",
       "  </div>\n",
       "</div>\n",
       "\n",
       "\n",
       "<script language=\"javascript\">\n",
       "  /* Instantiate the Animation class. */\n",
       "  /* The IDs given should match those used in the template above. */\n",
       "  (function() {\n",
       "    var img_id = \"_anim_img82f5056c0e624978b9d494be3d9e8836\";\n",
       "    var slider_id = \"_anim_slider82f5056c0e624978b9d494be3d9e8836\";\n",
       "    var loop_select_id = \"_anim_loop_select82f5056c0e624978b9d494be3d9e8836\";\n",
       "    var frames = new Array(100);\n",
       "    \n",
       "  for (var i=0; i<100; i++){\n",
       "    frames[i] = \"animation_frames/frame\" + (\"0000000\" + i).slice(-7) +\n",
       "                \".png\";\n",
       "  }\n",
       "\n",
       "\n",
       "    /* set a timeout to make sure all the above elements are created before\n",
       "       the object is initialized. */\n",
       "    setTimeout(function() {\n",
       "        anim82f5056c0e624978b9d494be3d9e8836 = new Animation(frames, img_id, slider_id, 33,\n",
       "                                 loop_select_id);\n",
       "    }, 0);\n",
       "  })()\n",
       "</script>\n"
      ],
      "text/plain": [
       "<IPython.core.display.HTML object>"
      ]
     },
     "metadata": {},
     "output_type": "display_data"
    },
    {
     "data": {
      "image/png": "[encoded data removed]",
      "text/plain": [
       "<Figure size 432x288 with 1 Axes>"
      ]
     },
     "metadata": {
      "needs_background": "light"
     },
     "output_type": "display_data"
    }
   ],
   "source": [
    "pong_utils.play(env, policy, time=100) \n",
    "# # try to add the option \"preprocess=pong_utils.preprocess_single\"\n",
    "# # to see what the agent sees"
   ]
  },
  {
   "cell_type": "markdown",
   "metadata": {},
   "source": [
    "# Rollout\n",
    "Before we start the training, we need to collect samples. To make things efficient we use parallelized environments to collect multiple examples at once"
   ]
  },
  {
   "cell_type": "code",
   "execution_count": 6,
   "metadata": {},
   "outputs": [],
   "source": [
    "envs = pong_utils.parallelEnv('PongDeterministic-v4', n=4, seed=12345)\n",
    "prob, state, action, reward = pong_utils.collect_trajectories(envs, policy, tmax=100)"
   ]
  },
  {
   "cell_type": "code",
   "execution_count": 7,
   "metadata": {
    "scrolled": true
   },
   "outputs": [
    {
     "name": "stdout",
     "output_type": "stream",
     "text": [
      "[array([0.51868474, 0.5188755 , 0.48134482, 0.51868474], dtype=float32), array([0.518693  , 0.518499  , 0.48123193, 0.518693  ], dtype=float32), array([0.48102874, 0.51875997, 0.4812334 , 0.48102874], dtype=float32), array([0.48117915, 0.48125213, 0.51880336, 0.48117915], dtype=float32), array([0.5187472 , 0.48120543, 0.5187632 , 0.5187472 ], dtype=float32), array([0.5187241 , 0.4814735 , 0.48125315, 0.5187241 ], dtype=float32), array([0.5189657 , 0.4812195 , 0.5187439 , 0.48103425], dtype=float32), array([0.51852554, 0.51879334, 0.51868916, 0.481272  ], dtype=float32), array([0.48138288, 0.4812178 , 0.51883125, 0.48138016], dtype=float32), array([0.48153812, 0.48123044, 0.51855975, 0.5187575 ], dtype=float32), array([0.51866245, 0.5186421 , 0.518636  , 0.48133963], dtype=float32), array([0.51851547, 0.5186316 , 0.5186039 , 0.4813311 ], dtype=float32), array([0.51875556, 0.48102912, 0.51874685, 0.5187689 ], dtype=float32), array([0.48128593, 0.48121727, 0.48126978, 0.48121393], dtype=float32), array([0.51857036, 0.4814735 , 0.51854026, 0.4814949 ], dtype=float32), array([0.48152244, 0.48150066, 0.4815348 , 0.48152906], dtype=float32), array([0.4813245 , 0.5186372 , 0.51865435, 0.48137787], dtype=float32), array([0.48145312, 0.481218  , 0.4812812 , 0.4812622 ], dtype=float32), array([0.5187051 , 0.48133135, 0.5187167 , 0.4813254 ], dtype=float32), array([0.48144108, 0.48133388, 0.48134702, 0.48132786], dtype=float32), array([0.4813436, 0.4813373, 0.5186934, 0.5186627], dtype=float32), array([0.51876885, 0.48134267, 0.51864123, 0.5186573 ], dtype=float32), array([0.5189076 , 0.48125833, 0.5187316 , 0.48124707], dtype=float32), array([0.48159   , 0.51856947, 0.51855946, 0.48142746], dtype=float32), array([0.48147246, 0.51855206, 0.5185405 , 0.48144794], dtype=float32), array([0.51890624, 0.4811934 , 0.51878726, 0.48120075], dtype=float32), array([0.4812198 , 0.5186285 , 0.5186157 , 0.48137328], dtype=float32), array([0.51877654, 0.5186482 , 0.48137078, 0.48136127], dtype=float32), array([0.5191318 , 0.48122963, 0.5187778 , 0.51875854], dtype=float32), array([0.5185534 , 0.48127523, 0.51867044, 0.5186864 ], dtype=float32), array([0.5187069 , 0.5184959 , 0.4815114 , 0.48148975], dtype=float32), array([0.4813614 , 0.5186104 , 0.48137322, 0.48139775], dtype=float32), array([0.48129278, 0.48131782, 0.48141024, 0.48132962], dtype=float32), array([0.48152742, 0.4812863 , 0.5186126 , 0.48132405], dtype=float32), array([0.51866806, 0.51867044, 0.48155594, 0.51867485], dtype=float32), array([0.51853895, 0.51853573, 0.5184797 , 0.48147532], dtype=float32), array([0.5187313 , 0.48125115, 0.5185142 , 0.4812606 ], dtype=float32), array([0.4813894 , 0.5188829 , 0.51884925, 0.4811531 ], dtype=float32), array([0.518782  , 0.48127037, 0.5187347 , 0.518721  ], dtype=float32), array([0.481206  , 0.48114052, 0.5188046 , 0.4811829 ], dtype=float32), array([0.48142067, 0.51874804, 0.48125938, 0.48124894], dtype=float32), array([0.518463  , 0.4814341 , 0.48142383, 0.48144117], dtype=float32), array([0.5185338 , 0.4813083 , 0.48138902, 0.48131278], dtype=float32), array([0.5185672 , 0.48141935, 0.4814887 , 0.48141935], dtype=float32), array([0.48136494, 0.5187324 , 0.5188478 , 0.4812676 ], dtype=float32), array([0.48130196, 0.4813404 , 0.48124436, 0.5186596 ], dtype=float32), array([0.5185888 , 0.5186604 , 0.51874304, 0.48133957], dtype=float32), array([0.4813034 , 0.5186619 , 0.48124388, 0.5186619 ], dtype=float32), array([0.48142886, 0.5188081 , 0.4811137 , 0.48119947], dtype=float32), array([0.48140514, 0.48134735, 0.4813182 , 0.51864225], dtype=float32), array([0.48135498, 0.4814077 , 0.51855874, 0.5185549 ], dtype=float32), array([0.5185814, 0.4814781, 0.5185422, 0.5185387], dtype=float32), array([0.4813604 , 0.48127916, 0.5187067 , 0.48126894], dtype=float32), array([0.48127842, 0.5187041 , 0.48119864, 0.5187458 ], dtype=float32), array([0.48125198, 0.48111832, 0.51896554, 0.51889145], dtype=float32), array([0.51870084, 0.48123515, 0.48113844, 0.5187943 ], dtype=float32), array([0.48130327, 0.51869476, 0.48122066, 0.4811404 ], dtype=float32), array([0.48132372, 0.51867175, 0.51870424, 0.5187648 ], dtype=float32), array([0.4813425 , 0.5186759 , 0.48131904, 0.4810891 ], dtype=float32), array([0.48133543, 0.4813815 , 0.48137233, 0.48129842], dtype=float32), array([0.5186646 , 0.48129433, 0.51867014, 0.5186777 ], dtype=float32), array([0.48133543, 0.48136088, 0.4813426 , 0.48131853], dtype=float32), array([0.48133543, 0.5186037 , 0.5186081 , 0.51862216], dtype=float32), array([0.48133543, 0.48133698, 0.4813214 , 0.51870584], dtype=float32), array([0.5186646 , 0.48138157, 0.5186266 , 0.48121747], dtype=float32), array([0.48133543, 0.4813362 , 0.48132196, 0.51875865], dtype=float32), array([0.48133543, 0.4812415 , 0.5187645 , 0.51900506], dtype=float32), array([0.5186646 , 0.5186864 , 0.5187038 , 0.48140472], dtype=float32), array([0.5186646 , 0.4815011 , 0.5184853 , 0.48152745], dtype=float32), array([0.5186733, 0.4813988, 0.5186944, 0.4813318], dtype=float32), array([0.48132715, 0.51852465, 0.5183379 , 0.51853216], dtype=float32), array([0.48132455, 0.5187394 , 0.51874125, 0.5187748 ], dtype=float32), array([0.48138648, 0.48114294, 0.48113918, 0.5190071 ], dtype=float32), array([0.5186884 , 0.51872206, 0.5187516 , 0.48137233], dtype=float32), array([0.5186424 , 0.4811724 , 0.51880336, 0.5187869 ], dtype=float32), array([0.48137367, 0.48124486, 0.51874065, 0.4813276 ], dtype=float32), array([0.5187464 , 0.48144117, 0.48145506, 0.5185298 ], dtype=float32), array([0.48141482, 0.48131278, 0.5186807 , 0.5186112 ], dtype=float32), array([0.51855165, 0.5185807 , 0.51856995, 0.518559  ], dtype=float32), array([0.518795  , 0.5187324 , 0.48127148, 0.48128617], dtype=float32), array([0.51875293, 0.51867115, 0.4811526 , 0.48126733], dtype=float32), array([0.48126805, 0.48132837, 0.4813782 , 0.5184266 ], dtype=float32), array([0.51862705, 0.5186986 , 0.51845205, 0.48135814], dtype=float32), array([0.51870334, 0.5188098 , 0.5183569 , 0.51852965], dtype=float32), array([0.51881576, 0.48133427, 0.48132837, 0.48137653], dtype=float32), array([0.5185548 , 0.4814213 , 0.48143366, 0.4817109 ], dtype=float32), array([0.5187334 , 0.5185783 , 0.48138946, 0.4815787 ], dtype=float32), array([0.5187725 , 0.51873004, 0.48121879, 0.5187867 ], dtype=float32), array([0.5185926 , 0.48127428, 0.5186744 , 0.48104507], dtype=float32), array([0.48147422, 0.51890177, 0.4812483 , 0.51897657], dtype=float32), array([0.4813795 , 0.48118556, 0.51866543, 0.51901126], dtype=float32), array([0.48143432, 0.4812813 , 0.5185648 , 0.48139796], dtype=float32), array([0.518609  , 0.5187166 , 0.51886517, 0.48135453], dtype=float32), array([0.51843864, 0.48132813, 0.48144907, 0.51872957], dtype=float32), array([0.51865757, 0.51864517, 0.4812878 , 0.51885366], dtype=float32), array([0.51866806, 0.5186775 , 0.48113224, 0.48142383], dtype=float32), array([0.5187418 , 0.48133653, 0.51863575, 0.5186157 ], dtype=float32), array([0.4814006 , 0.48137787, 0.48131114, 0.51852334], dtype=float32), array([0.4814244 , 0.51871204, 0.5187334 , 0.51864326], dtype=float32), array([0.5185637 , 0.48137432, 0.51876706, 0.48140648], dtype=float32)]\n"
     ]
    }
   ],
   "source": [
    "import numpy as np \n",
    "print(prob)"
   ]
  },
  {
   "cell_type": "markdown",
   "metadata": {},
   "source": [
    "# Function Definitions\n",
    "Here you will define key functions for training. \n",
    "\n",
    "## Exercise 2: write your own function for training\n",
    "(this is the same as policy_loss except the negative sign)\n",
    "\n",
    "### REINFORCE\n",
    "you have two choices (usually it's useful to divide by the time since we've normalized our rewards and the time of each trajectory is fixed)\n",
    "\n",
    "1. $\\frac{1}{T}\\sum^T_t R_{t}^{\\rm future}\\log(\\pi_{\\theta'}(a_t|s_t))$\n",
    "2. $\\frac{1}{T}\\sum^T_t R_{t}^{\\rm future}\\frac{\\pi_{\\theta'}(a_t|s_t)}{\\pi_{\\theta}(a_t|s_t)}$ where $\\theta'=\\theta$ and make sure that the no_grad is enabled when performing the division"
   ]
  },
  {
   "cell_type": "code",
   "execution_count": 8,
   "metadata": {},
   "outputs": [
    {
     "name": "stdout",
     "output_type": "stream",
     "text": [
      "tensor(0.0007, device='cuda:0', grad_fn=<AddBackward0>)\n"
     ]
    }
   ],
   "source": [
    "def surrogate(policy, old_probs, states, actions, rewards,\n",
    "              discount = 0.995, beta=0.001):\n",
    "\n",
    "    ########\n",
    "    ## \n",
    "    ## WRITE YOUR OWN CODE HERE\n",
    "    ##\n",
    "    ########\n",
    "    epsilon = 1.e-10\n",
    "    \n",
    "    discount = discount**np.arange(len(rewards))\n",
    "    rewards = np.asarray(rewards)*discount[:,np.newaxis]\n",
    "    \n",
    "    # convert rewards to future rewards e.g. [r0, r1, r2, r3] -> [r0 + r1 + r2 + r3, r1 + r2 + r3, r2 + r3, r3]\n",
    "    rewards_future = rewards[::-1].cumsum(axis=0)[::-1]\n",
    "    \n",
    "    mean = np.mean(rewards_future, axis=1)\n",
    "    std = np.std(rewards_future, axis=1) + 1.0e-10\n",
    "\n",
    "    rewards_normalized = (rewards_future - mean[:,np.newaxis])/std[:,np.newaxis]\n",
    "    \n",
    "    # convert everything into pytorch tensors and move to gpu if available\n",
    "    actions = torch.tensor(actions, dtype=torch.int8, device=device)\n",
    "    old_probs = torch.tensor(old_probs, dtype=torch.float, device=device)\n",
    "    R = torch.tensor(rewards_normalized, dtype=torch.float, device=device)\n",
    "\n",
    "    # 计算新的策略概率\n",
    "    new_probs = pong_utils.states_to_prob(policy, states)  # policy_theta(actions|states)\n",
    "    # 根据动作调整概率值。如果动作是 RIGHT（假设 pong_utils.RIGHT 是一个常量），则保持概率不变，否则取其相反的概率。\n",
    "    new_probs = torch.where(actions == pong_utils.RIGHT, new_probs, 1.0 - new_probs)  \n",
    "\n",
    "    # # 计算回报\n",
    "    # R = torch.tensor(rewards, dtype=torch.float32, device=device)\n",
    "    # for t in reversed(range(len(R) - 1)):\n",
    "    #     R[t] += discount * R[t + 1]\n",
    "\n",
    "    # 计算损失\n",
    "    # 1.\n",
    "    # loss = torch.mean(R * torch.log(new_probs + epsilon))\n",
    "    # 2.\n",
    "    loss = torch.mean((new_probs / (old_probs + epsilon)) * R)\n",
    "\n",
    "    # 计算熵, 用于增加探索性\n",
    "    entropy = -(new_probs * torch.log(new_probs + epsilon) + \\\n",
    "                (1.0 - new_probs) * torch.log(1.0 - new_probs + epsilon))\n",
    "\n",
    "    return loss +  torch.mean(beta * entropy)  # here return the positive value as the maximize target\n",
    "\n",
    "Lsur= surrogate(policy, prob, state, action, reward)\n",
    "\n",
    "print(Lsur)"
   ]
  },
  {
   "cell_type": "markdown",
   "metadata": {},
   "source": [
    "# Training\n",
    "We are now ready to train our policy!\n",
    "WARNING: make sure to turn on GPU, which also enables multicore processing. It may take up to 45 minutes even with GPU enabled, otherwise it will take much longer!"
   ]
  },
  {
   "cell_type": "code",
   "execution_count": 9,
   "metadata": {
    "scrolled": true
   },
   "outputs": [
    {
     "name": "stderr",
     "output_type": "stream",
     "text": [
      "Failed to detect the name of this notebook, you can set it manually with the WANDB_NOTEBOOK_NAME environment variable to enable code saving.\n",
      "\u001b[34m\u001b[1mwandb\u001b[0m: Currently logged in as: \u001b[33mstan_fu\u001b[0m (\u001b[33mstanfu\u001b[0m). Use \u001b[1m`wandb login --relogin`\u001b[0m to force relogin\n"
     ]
    },
    {
     "data": {
      "text/html": [
       "wandb version 0.17.0 is available!  To upgrade, please run:\n",
       " $ pip install wandb --upgrade"
      ],
      "text/plain": [
       "<IPython.core.display.HTML object>"
      ]
     },
     "metadata": {},
     "output_type": "display_data"
    },
    {
     "data": {
      "text/html": [
       "Tracking run with wandb version 0.15.11"
      ],
      "text/plain": [
       "<IPython.core.display.HTML object>"
      ]
     },
     "metadata": {},
     "output_type": "display_data"
    },
    {
     "data": {
      "text/html": [
       "Run data is saved locally in <code>c:\\ML_Projects\\RL_review\\2.codes\\2.Policy Gradient Method\\pong\\wandb\\run-20240602_022905-bnelrqiv</code>"
      ],
      "text/plain": [
       "<IPython.core.display.HTML object>"
      ]
     },
     "metadata": {},
     "output_type": "display_data"
    },
    {
     "data": {
      "text/html": [
       "Syncing run <strong><a href='https://wandb.ai/stanfu/pong-training/runs/bnelrqiv' target=\"_blank\">policy-gradient</a></strong> to <a href='https://wandb.ai/stanfu/pong-training' target=\"_blank\">Weights & Biases</a> (<a href='https://wandb.me/run' target=\"_blank\">docs</a>)<br/>"
      ],
      "text/plain": [
       "<IPython.core.display.HTML object>"
      ]
     },
     "metadata": {},
     "output_type": "display_data"
    },
    {
     "data": {
      "text/html": [
       " View project at <a href='https://wandb.ai/stanfu/pong-training' target=\"_blank\">https://wandb.ai/stanfu/pong-training</a>"
      ],
      "text/plain": [
       "<IPython.core.display.HTML object>"
      ]
     },
     "metadata": {},
     "output_type": "display_data"
    },
    {
     "data": {
      "text/html": [
       " View run at <a href='https://wandb.ai/stanfu/pong-training/runs/bnelrqiv' target=\"_blank\">https://wandb.ai/stanfu/pong-training/runs/bnelrqiv</a>"
      ],
      "text/plain": [
       "<IPython.core.display.HTML object>"
      ]
     },
     "metadata": {},
     "output_type": "display_data"
    },
    {
     "name": "stderr",
     "output_type": "stream",
     "text": [
      "training loop:   0% |                                          | ETA:  --:--:--\n",
      "training loop:  18%|█▊        | 147/800 [08:24<37:18,  3.43s/it]"
     ]
    }
   ],
   "source": [
    "# # Install necessary libraries\n",
    "# !pip install progressbar2 wandb\n",
    "\n",
    "from parallelEnv import parallelEnv\n",
    "import numpy as np\n",
    "import torch\n",
    "import wandb\n",
    "import progressbar as pb\n",
    "from tqdm import tqdm\n",
    "\n",
    "# Initialize wandb\n",
    "wandb.init(project=\"pong-training\", name=\"policy-gradient\")\n",
    "\n",
    "# Configuration\n",
    "episode = 800  # You can increase to 800\n",
    "discount_rate = 0.99\n",
    "beta = 0.01\n",
    "tmax = 300\n",
    "n_envs = 8\n",
    "env_name = 'PongDeterministic-v4'\n",
    "\n",
    "# Initialize environment\n",
    "envs = parallelEnv(env_name, n=n_envs, seed=12345)\n",
    "\n",
    "# Training loop max iterations\n",
    "# Widget bar to display progress\n",
    "widget = ['training loop: ', pb.Percentage(), ' ', pb.Bar(), ' ', pb.ETA()]\n",
    "timer = pb.ProgressBar(widgets=widget, maxval=episode).start()\n",
    "\n",
    "# Keep track of progress\n",
    "mean_rewards = []\n",
    "\n",
    "with tqdm(total=episode, desc=\"training loop\") as pbar:\n",
    "    for e in range(episode):\n",
    "        # Collect trajectories\n",
    "        old_probs, states, actions, rewards = pong_utils.collect_trajectories(envs, policy, tmax=tmax)\n",
    "        total_rewards = np.sum(rewards, axis=0)\n",
    "\n",
    "        # Calculate loss using your surrogate function\n",
    "        L = -surrogate(policy, old_probs, states, actions, rewards, beta=beta)  # here return the negative value as the minimize target\n",
    "        optimizer.zero_grad()\n",
    "        L.backward()\n",
    "        optimizer.step()\n",
    "        del L\n",
    "\n",
    "        # Reduce beta for exploration in later runs\n",
    "        beta *= .995\n",
    "\n",
    "        # Get the average reward of the parallel environments\n",
    "        mean_reward = np.mean(total_rewards)\n",
    "        mean_rewards.append(mean_reward)\n",
    "\n",
    "        # Log metrics to wandb\n",
    "        wandb.log({\"episode\": e + 1, \"mean_reward\": mean_reward, \"beta\": beta})\n",
    "\n",
    "\n",
    "        # Update progress bar\n",
    "        pbar.update(1)\n",
    "\n",
    "\n",
    "timer.finish()\n",
    "\n",
    "# Finish wandb run\n",
    "wandb.finish()\n"
   ]
  },
  {
   "cell_type": "code",
   "execution_count": null,
   "metadata": {},
   "outputs": [
    {
     "data": {
      "text/html": [
       "\n",
       "<link rel=\"stylesheet\"\n",
       "href=\"https://maxcdn.bootstrapcdn.com/font-awesome/4.4.0/css/font-awesome.min.css\">\n",
       "<script language=\"javascript\">\n",
       "  function isInternetExplorer() {\n",
       "    ua = navigator.userAgent;\n",
       "    /* MSIE used to detect old browsers and Trident used to newer ones*/\n",
       "    return ua.indexOf(\"MSIE \") > -1 || ua.indexOf(\"Trident/\") > -1;\n",
       "  }\n",
       "\n",
       "  /* Define the Animation class */\n",
       "  function Animation(frames, img_id, slider_id, interval, loop_select_id){\n",
       "    this.img_id = img_id;\n",
       "    this.slider_id = slider_id;\n",
       "    this.loop_select_id = loop_select_id;\n",
       "    this.interval = interval;\n",
       "    this.current_frame = 0;\n",
       "    this.direction = 0;\n",
       "    this.timer = null;\n",
       "    this.frames = new Array(frames.length);\n",
       "\n",
       "    for (var i=0; i<frames.length; i++)\n",
       "    {\n",
       "     this.frames[i] = new Image();\n",
       "     this.frames[i].src = frames[i];\n",
       "    }\n",
       "    var slider = document.getElementById(this.slider_id);\n",
       "    slider.max = this.frames.length - 1;\n",
       "    if (isInternetExplorer()) {\n",
       "        // switch from oninput to onchange because IE <= 11 does not conform\n",
       "        // with W3C specification. It ignores oninput and onchange behaves\n",
       "        // like oninput. In contrast, Mircosoft Edge behaves correctly.\n",
       "        slider.setAttribute('onchange', slider.getAttribute('oninput'));\n",
       "        slider.setAttribute('oninput', null);\n",
       "    }\n",
       "    this.set_frame(this.current_frame);\n",
       "  }\n",
       "\n",
       "  Animation.prototype.get_loop_state = function(){\n",
       "    var button_group = document[this.loop_select_id].state;\n",
       "    for (var i = 0; i < button_group.length; i++) {\n",
       "        var button = button_group[i];\n",
       "        if (button.checked) {\n",
       "            return button.value;\n",
       "        }\n",
       "    }\n",
       "    return undefined;\n",
       "  }\n",
       "\n",
       "  Animation.prototype.set_frame = function(frame){\n",
       "    this.current_frame = frame;\n",
       "    document.getElementById(this.img_id).src =\n",
       "            this.frames[this.current_frame].src;\n",
       "    document.getElementById(this.slider_id).value = this.current_frame;\n",
       "  }\n",
       "\n",
       "  Animation.prototype.next_frame = function()\n",
       "  {\n",
       "    this.set_frame(Math.min(this.frames.length - 1, this.current_frame + 1));\n",
       "  }\n",
       "\n",
       "  Animation.prototype.previous_frame = function()\n",
       "  {\n",
       "    this.set_frame(Math.max(0, this.current_frame - 1));\n",
       "  }\n",
       "\n",
       "  Animation.prototype.first_frame = function()\n",
       "  {\n",
       "    this.set_frame(0);\n",
       "  }\n",
       "\n",
       "  Animation.prototype.last_frame = function()\n",
       "  {\n",
       "    this.set_frame(this.frames.length - 1);\n",
       "  }\n",
       "\n",
       "  Animation.prototype.slower = function()\n",
       "  {\n",
       "    this.interval /= 0.7;\n",
       "    if(this.direction > 0){this.play_animation();}\n",
       "    else if(this.direction < 0){this.reverse_animation();}\n",
       "  }\n",
       "\n",
       "  Animation.prototype.faster = function()\n",
       "  {\n",
       "    this.interval *= 0.7;\n",
       "    if(this.direction > 0){this.play_animation();}\n",
       "    else if(this.direction < 0){this.reverse_animation();}\n",
       "  }\n",
       "\n",
       "  Animation.prototype.anim_step_forward = function()\n",
       "  {\n",
       "    this.current_frame += 1;\n",
       "    if(this.current_frame < this.frames.length){\n",
       "      this.set_frame(this.current_frame);\n",
       "    }else{\n",
       "      var loop_state = this.get_loop_state();\n",
       "      if(loop_state == \"loop\"){\n",
       "        this.first_frame();\n",
       "      }else if(loop_state == \"reflect\"){\n",
       "        this.last_frame();\n",
       "        this.reverse_animation();\n",
       "      }else{\n",
       "        this.pause_animation();\n",
       "        this.last_frame();\n",
       "      }\n",
       "    }\n",
       "  }\n",
       "\n",
       "  Animation.prototype.anim_step_reverse = function()\n",
       "  {\n",
       "    this.current_frame -= 1;\n",
       "    if(this.current_frame >= 0){\n",
       "      this.set_frame(this.current_frame);\n",
       "    }else{\n",
       "      var loop_state = this.get_loop_state();\n",
       "      if(loop_state == \"loop\"){\n",
       "        this.last_frame();\n",
       "      }else if(loop_state == \"reflect\"){\n",
       "        this.first_frame();\n",
       "        this.play_animation();\n",
       "      }else{\n",
       "        this.pause_animation();\n",
       "        this.first_frame();\n",
       "      }\n",
       "    }\n",
       "  }\n",
       "\n",
       "  Animation.prototype.pause_animation = function()\n",
       "  {\n",
       "    this.direction = 0;\n",
       "    if (this.timer){\n",
       "      clearInterval(this.timer);\n",
       "      this.timer = null;\n",
       "    }\n",
       "  }\n",
       "\n",
       "  Animation.prototype.play_animation = function()\n",
       "  {\n",
       "    this.pause_animation();\n",
       "    this.direction = 1;\n",
       "    var t = this;\n",
       "    if (!this.timer) this.timer = setInterval(function() {\n",
       "        t.anim_step_forward();\n",
       "    }, this.interval);\n",
       "  }\n",
       "\n",
       "  Animation.prototype.reverse_animation = function()\n",
       "  {\n",
       "    this.pause_animation();\n",
       "    this.direction = -1;\n",
       "    var t = this;\n",
       "    if (!this.timer) this.timer = setInterval(function() {\n",
       "        t.anim_step_reverse();\n",
       "    }, this.interval);\n",
       "  }\n",
       "</script>\n",
       "\n",
       "<style>\n",
       ".animation {\n",
       "    display: inline-block;\n",
       "    text-align: center;\n",
       "}\n",
       "input[type=range].anim-slider {\n",
       "    width: 374px;\n",
       "    margin-left: auto;\n",
       "    margin-right: auto;\n",
       "}\n",
       ".anim-buttons {\n",
       "    margin: 8px 0px;\n",
       "}\n",
       ".anim-buttons button {\n",
       "    padding: 0;\n",
       "    width: 36px;\n",
       "}\n",
       ".anim-state label {\n",
       "    margin-right: 8px;\n",
       "}\n",
       ".anim-state input {\n",
       "    margin: 0;\n",
       "    vertical-align: middle;\n",
       "}\n",
       "</style>\n",
       "\n",
       "<div class=\"animation\">\n",
       "  <img id=\"_anim_imga5d324e1bd5a40b191797a9d9157be37\">\n",
       "  <div class=\"anim-controls\">\n",
       "    <input id=\"_anim_slidera5d324e1bd5a40b191797a9d9157be37\" type=\"range\" class=\"anim-slider\"\n",
       "           name=\"points\" min=\"0\" max=\"1\" step=\"1\" value=\"0\"\n",
       "           oninput=\"anima5d324e1bd5a40b191797a9d9157be37.set_frame(parseInt(this.value));\"></input>\n",
       "    <div class=\"anim-buttons\">\n",
       "      <button title=\"Decrease speed\" onclick=\"anima5d324e1bd5a40b191797a9d9157be37.slower()\">\n",
       "          <i class=\"fa fa-minus\"></i></button>\n",
       "      <button title=\"First frame\" onclick=\"anima5d324e1bd5a40b191797a9d9157be37.first_frame()\">\n",
       "        <i class=\"fa fa-fast-backward\"></i></button>\n",
       "      <button title=\"Previous frame\" onclick=\"anima5d324e1bd5a40b191797a9d9157be37.previous_frame()\">\n",
       "          <i class=\"fa fa-step-backward\"></i></button>\n",
       "      <button title=\"Play backwards\" onclick=\"anima5d324e1bd5a40b191797a9d9157be37.reverse_animation()\">\n",
       "          <i class=\"fa fa-play fa-flip-horizontal\"></i></button>\n",
       "      <button title=\"Pause\" onclick=\"anima5d324e1bd5a40b191797a9d9157be37.pause_animation()\">\n",
       "          <i class=\"fa fa-pause\"></i></button>\n",
       "      <button title=\"Play\" onclick=\"anima5d324e1bd5a40b191797a9d9157be37.play_animation()\">\n",
       "          <i class=\"fa fa-play\"></i></button>\n",
       "      <button title=\"Next frame\" onclick=\"anima5d324e1bd5a40b191797a9d9157be37.next_frame()\">\n",
       "          <i class=\"fa fa-step-forward\"></i></button>\n",
       "      <button title=\"Last frame\" onclick=\"anima5d324e1bd5a40b191797a9d9157be37.last_frame()\">\n",
       "          <i class=\"fa fa-fast-forward\"></i></button>\n",
       "      <button title=\"Increase speed\" onclick=\"anima5d324e1bd5a40b191797a9d9157be37.faster()\">\n",
       "          <i class=\"fa fa-plus\"></i></button>\n",
       "    </div>\n",
       "    <form title=\"Repetition mode\" action=\"#n\" name=\"_anim_loop_selecta5d324e1bd5a40b191797a9d9157be37\"\n",
       "          class=\"anim-state\">\n",
       "      <input type=\"radio\" name=\"state\" value=\"once\" id=\"_anim_radio1_a5d324e1bd5a40b191797a9d9157be37\"\n",
       "             >\n",
       "      <label for=\"_anim_radio1_a5d324e1bd5a40b191797a9d9157be37\">Once</label>\n",
       "      <input type=\"radio\" name=\"state\" value=\"loop\" id=\"_anim_radio2_a5d324e1bd5a40b191797a9d9157be37\"\n",
       "             checked>\n",
       "      <label for=\"_anim_radio2_a5d324e1bd5a40b191797a9d9157be37\">Loop</label>\n",
       "      <input type=\"radio\" name=\"state\" value=\"reflect\" id=\"_anim_radio3_a5d324e1bd5a40b191797a9d9157be37\"\n",
       "             >\n",
       "      <label for=\"_anim_radio3_a5d324e1bd5a40b191797a9d9157be37\">Reflect</label>\n",
       "    </form>\n",
       "  </div>\n",
       "</div>\n",
       "\n",
       "\n",
       "<script language=\"javascript\">\n",
       "  /* Instantiate the Animation class. */\n",
       "  /* The IDs given should match those used in the template above. */\n",
       "  (function() {\n",
       "    var img_id = \"_anim_imga5d324e1bd5a40b191797a9d9157be37\";\n",
       "    var slider_id = \"_anim_slidera5d324e1bd5a40b191797a9d9157be37\";\n",
       "    var loop_select_id = \"_anim_loop_selecta5d324e1bd5a40b191797a9d9157be37\";\n",
       "    var frames = new Array(419);\n",
       "    \n",
       "  for (var i=0; i<419; i++){\n",
       "    frames[i] = \"animation_frames/frame\" + (\"0000000\" + i).slice(-7) +\n",
       "                \".png\";\n",
       "  }\n",
       "\n",
       "\n",
       "    /* set a timeout to make sure all the above elements are created before\n",
       "       the object is initialized. */\n",
       "    setTimeout(function() {\n",
       "        anima5d324e1bd5a40b191797a9d9157be37 = new Animation(frames, img_id, slider_id, 33,\n",
       "                                 loop_select_id);\n",
       "    }, 0);\n",
       "  })()\n",
       "</script>\n"
      ],
      "text/plain": [
       "<IPython.core.display.HTML object>"
      ]
     },
     "metadata": {},
     "output_type": "display_data"
    },
    {
     "data": {
      "image/png": "[encoded data removed]",
      "text/plain": [
       "<Figure size 432x288 with 1 Axes>"
      ]
     },
     "metadata": {
      "needs_background": "light"
     },
     "output_type": "display_data"
    }
   ],
   "source": [
    "# play game after training!\n",
    "pong_utils.play(env, policy, time=2000) "
   ]
  },
  {
   "cell_type": "code",
   "execution_count": null,
   "metadata": {},
   "outputs": [
    {
     "data": {
      "text/plain": [
       "[<matplotlib.lines.Line2D at 0x2702a985400>]"
      ]
     },
     "execution_count": 21,
     "metadata": {},
     "output_type": "execute_result"
    },
    {
     "data": {
      "image/png": "[encoded data removed]",
      "text/plain": [
       "<Figure size 432x288 with 1 Axes>"
      ]
     },
     "metadata": {
      "needs_background": "light"
     },
     "output_type": "display_data"
    }
   ],
   "source": [
    "plt.plot(mean_rewards)"
   ]
  },
  {
   "cell_type": "code",
   "execution_count": null,
   "metadata": {},
   "outputs": [],
   "source": [
    "# save your policy!\n",
    "torch.save(policy, 'REINFORCE.policy')\n",
    "\n",
    "# load your policy if needed\n",
    "# policy = torch.load('REINFORCE.policy')\n",
    "\n",
    "# try and test out the solution!\n",
    "# policy = torch.load('PPO_solution.policy')"
   ]
  }
 ],
 "metadata": {
  "kernelspec": {
   "display_name": "Python 3",
   "language": "python",
   "name": "python3"
  },
  "language_info": {
   "codemirror_mode": {
    "name": "ipython",
    "version": 3
   },
   "file_extension": ".py",
   "mimetype": "text/x-python",
   "name": "python",
   "nbconvert_exporter": "python",
   "pygments_lexer": "ipython3",
   "version": "3.6.13"
  }
 },
 "nbformat": 4,
 "nbformat_minor": 2
}
