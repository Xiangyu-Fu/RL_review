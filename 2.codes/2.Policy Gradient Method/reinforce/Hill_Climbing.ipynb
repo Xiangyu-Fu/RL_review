{
 "cells": [
  {
   "cell_type": "markdown",
   "metadata": {},
   "source": [
    "# Hill Climbing\n",
    "\n",
    "---\n",
    "\n",
    "In this notebook, we will train hill climbing with adaptive noise scaling with OpenAI Gym's Cartpole environment."
   ]
  },
  {
   "cell_type": "markdown",
   "metadata": {},
   "source": [
    "### 1. Import the Necessary Packages"
   ]
  },
  {
   "cell_type": "code",
   "execution_count": 1,
   "metadata": {},
   "outputs": [],
   "source": [
    "import gym\n",
    "import numpy as np\n",
    "from collections import deque\n",
    "import matplotlib.pyplot as plt\n",
    "%matplotlib inline"
   ]
  },
  {
   "cell_type": "markdown",
   "metadata": {},
   "source": [
    "### 2. Define the Policy"
   ]
  },
  {
   "cell_type": "code",
   "execution_count": 26,
   "metadata": {},
   "outputs": [
    {
     "name": "stdout",
     "output_type": "stream",
     "text": [
      "observation space: Box([-4.8000002e+00 -3.4028235e+38 -4.1887903e-01 -3.4028235e+38], [4.8000002e+00 3.4028235e+38 4.1887903e-01 3.4028235e+38], (4,), float32)\n",
      "action space: Discrete(2)\n",
      "Chosen action: 0\n"
     ]
    }
   ],
   "source": [
    "env = gym.make('CartPole-v1')\n",
    "print('observation space:', env.observation_space)\n",
    "print('action space:', env.action_space)\n",
    "\n",
    "class Policy():\n",
    "    def __init__(self, s_size=4, a_size=2):\n",
    "        self.w = 1e-4*np.random.rand(s_size, a_size)  # weights for simple linear policy: state_space x action_space\n",
    "        \n",
    "    def forward(self, state):\n",
    "        x = np.dot(state, self.w)\n",
    "        return np.exp(x)/sum(np.exp(x))  # softmax activation function\n",
    "    \n",
    "    def act(self, state):\n",
    "        probs = self.forward(state)\n",
    "        action = np.random.choice(2, p=probs) # option 1: stochastic policy\n",
    "        # action = np.argmax(probs)              # option 2: deterministic policy\n",
    "        return action\n",
    "    \n",
    "policy = Policy()\n",
    "state = np.array([1.0, 2.0, 3.0, 4.0])\n",
    "action = policy.act(state)\n",
    "print(\"Chosen action:\", action)"
   ]
  },
  {
   "cell_type": "markdown",
   "metadata": {},
   "source": [
    "### 3. Train the Agent with Stochastic Policy Search"
   ]
  },
  {
   "cell_type": "code",
   "execution_count": 31,
   "metadata": {},
   "outputs": [
    {
     "name": "stdout",
     "output_type": "stream",
     "text": [
      "Episode 100\tAverage Score: 63.14\n",
      "Episode 200\tAverage Score: 78.90\n",
      "Episode 300\tAverage Score: 110.49\n",
      "Episode 400\tAverage Score: 102.54\n",
      "Episode 500\tAverage Score: 143.56\n",
      "Episode 600\tAverage Score: 144.76\n",
      "Episode 700\tAverage Score: 146.59\n",
      "Episode 800\tAverage Score: 147.70\n",
      "Episode 900\tAverage Score: 158.17\n",
      "Episode 1000\tAverage Score: 149.13\n",
      "Episode 1100\tAverage Score: 141.03\n",
      "Episode 1200\tAverage Score: 136.74\n",
      "Episode 1300\tAverage Score: 164.98\n",
      "Episode 1400\tAverage Score: 145.76\n",
      "Episode 1500\tAverage Score: 144.69\n",
      "Episode 1600\tAverage Score: 150.96\n",
      "Episode 1700\tAverage Score: 146.85\n",
      "Episode 1800\tAverage Score: 158.78\n",
      "Episode 1900\tAverage Score: 149.72\n",
      "Episode 2000\tAverage Score: 157.40\n",
      "Episode 2100\tAverage Score: 144.23\n",
      "Episode 2200\tAverage Score: 152.46\n",
      "Episode 2300\tAverage Score: 151.73\n",
      "Episode 2400\tAverage Score: 138.02\n",
      "Episode 2500\tAverage Score: 151.55\n",
      "Episode 2600\tAverage Score: 157.06\n",
      "Episode 2700\tAverage Score: 139.96\n",
      "Episode 2800\tAverage Score: 143.09\n",
      "Episode 2900\tAverage Score: 155.82\n",
      "Episode 3000\tAverage Score: 140.07\n",
      "Episode 3100\tAverage Score: 128.97\n",
      "Episode 3200\tAverage Score: 149.50\n",
      "Episode 3300\tAverage Score: 151.85\n",
      "Episode 3400\tAverage Score: 160.08\n",
      "Episode 3500\tAverage Score: 154.95\n",
      "Episode 3600\tAverage Score: 151.87\n",
      "Episode 3700\tAverage Score: 147.02\n",
      "Episode 3800\tAverage Score: 151.88\n",
      "Episode 3900\tAverage Score: 145.86\n",
      "Episode 4000\tAverage Score: 148.15\n",
      "Episode 4100\tAverage Score: 145.69\n",
      "Episode 4200\tAverage Score: 138.57\n",
      "Episode 4300\tAverage Score: 155.51\n",
      "Episode 4400\tAverage Score: 143.31\n",
      "Episode 4500\tAverage Score: 155.97\n",
      "Episode 4600\tAverage Score: 154.13\n",
      "Episode 4700\tAverage Score: 154.35\n",
      "Episode 4800\tAverage Score: 202.90\n",
      "Episode 4900\tAverage Score: 250.74\n",
      "Environment solved in 4896 episodes!\tAverage Score: 401.05\n"
     ]
    }
   ],
   "source": [
    "env = gym.make('CartPole-v0')\n",
    "env.reset(seed=0)\n",
    "np.random.seed(0)\n",
    "\n",
    "policy = Policy()\n",
    "\n",
    "def hill_climbing(n_episodes=10000, max_t=2000, gamma=1.0, print_every=100, noise_scale=1e-2):\n",
    "    \"\"\"Implementation of hill climbing with adaptive noise scaling.\n",
    "        \n",
    "    Params\n",
    "    ======\n",
    "        n_episodes (int): maximum number of training episodes\n",
    "        max_t (int): maximum number of timesteps per episode\n",
    "        gamma (float): discount rate\n",
    "        print_every (int): how often to print average score (over last 100 episodes)\n",
    "        noise_scale (float): standard deviation of additive noise\n",
    "    \"\"\"\n",
    "    scores_deque = deque(maxlen=1000)\n",
    "    scores = []\n",
    "    best_R = -np.Inf\n",
    "    best_w = policy.w\n",
    "    for i_episode in range(1, n_episodes+1):\n",
    "        rewards = []\n",
    "        state = env.reset()\n",
    "        state = state[0]\n",
    "        for t in range(max_t):\n",
    "            action = policy.act(state)\n",
    "            state, reward, done, _, _ = env.step(action)\n",
    "            rewards.append(reward)\n",
    "            if done:\n",
    "                break \n",
    "        scores_deque.append(sum(rewards))\n",
    "        scores.append(sum(rewards))\n",
    "\n",
    "        discounts = [gamma**i for i in range(len(rewards)+1)]\n",
    "        R = sum([a*b for a,b in zip(discounts, rewards)])\n",
    "\n",
    "        if R >= best_R: # found better weights\n",
    "            best_R = R\n",
    "            best_w = policy.w\n",
    "            noise_scale = max(1e-3, noise_scale / 2)\n",
    "            policy.w += noise_scale * np.random.rand(*policy.w.shape) \n",
    "        else: # did not find better weights\n",
    "            noise_scale = min(2, noise_scale * 2)\n",
    "            policy.w = best_w + noise_scale * np.random.rand(*policy.w.shape)\n",
    "\n",
    "        if i_episode % print_every == 0:\n",
    "            print('Episode {}\\tAverage Score: {:.2f}'.format(i_episode, np.mean(scores_deque)))\n",
    "        if np.mean(scores_deque)>=400.0:\n",
    "            print('Environment solved in {:d} episodes!\\tAverage Score: {:.2f}'.format(i_episode-100, np.mean(scores_deque)))\n",
    "            policy.w = best_w\n",
    "            break\n",
    "        \n",
    "    return scores\n",
    "            \n",
    "scores = hill_climbing()"
   ]
  },
  {
   "cell_type": "markdown",
   "metadata": {},
   "source": [
    "### 4. Plot the Scores"
   ]
  },
  {
   "cell_type": "code",
   "execution_count": 32,
   "metadata": {},
   "outputs": [
    {
     "data": {
      "image/png": "[encoded data removed]",
      "text/plain": [
       "<Figure size 640x480 with 1 Axes>"
      ]
     },
     "metadata": {},
     "output_type": "display_data"
    }
   ],
   "source": [
    "fig = plt.figure()\n",
    "ax = fig.add_subplot(111)\n",
    "plt.plot(np.arange(1, len(scores)+1), scores)\n",
    "plt.ylabel('Score')\n",
    "plt.xlabel('Episode #')\n",
    "plt.show()"
   ]
  },
  {
   "cell_type": "markdown",
   "metadata": {},
   "source": [
    "### 5. Watch a Smart Agent!"
   ]
  },
  {
   "cell_type": "code",
   "execution_count": 30,
   "metadata": {},
   "outputs": [],
   "source": [
    "env = gym.make('CartPole-v0', render_mode='human')\n",
    "state = env.reset()\n",
    "state = state[0]\n",
    "for t in range(200):\n",
    "    action = policy.act(state)\n",
    "    env.render()\n",
    "    state, reward, done, _, _ = env.step(action)\n",
    "    if done:\n",
    "        break \n",
    "\n",
    "env.close()"
   ]
  }
 ],
 "metadata": {
  "anaconda-cloud": {},
  "kernelspec": {
   "display_name": "Python 3",
   "language": "python",
   "name": "python3"
  },
  "language_info": {
   "codemirror_mode": {
    "name": "ipython",
    "version": 3
   },
   "file_extension": ".py",
   "mimetype": "text/x-python",
   "name": "python",
   "nbconvert_exporter": "python",
   "pygments_lexer": "ipython3",
   "version": "3.10.13"
  }
 },
 "nbformat": 4,
 "nbformat_minor": 2
}
